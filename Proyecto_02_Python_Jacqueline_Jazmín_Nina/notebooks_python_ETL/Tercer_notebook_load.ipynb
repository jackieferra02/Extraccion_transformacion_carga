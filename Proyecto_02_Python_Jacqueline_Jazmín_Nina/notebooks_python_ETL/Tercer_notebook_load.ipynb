{
  "nbformat": 4,
  "nbformat_minor": 0,
  "metadata": {
    "colab": {
      "provenance": []
    },
    "kernelspec": {
      "name": "python3",
      "display_name": "Python 3"
    },
    "language_info": {
      "name": "python"
    }
  },
  "cells": [
    {
      "cell_type": "markdown",
      "source": [
        "# **Carga de los datos**\n",
        "\n",
        "**Elaborado por:** Jacqueline Fernández, Jazmín Fernández y Nina Odoux."
      ],
      "metadata": {
        "id": "sHUQ6uCT-jba"
      }
    },
    {
      "cell_type": "code",
      "source": [
        "# Importación de librerías\n",
        "\n",
        "import pandas as pd\n",
        "from datetime import datetime\n",
        "import numpy as np"
      ],
      "metadata": {
        "id": "WTRBofF7swhW"
      },
      "execution_count": 25,
      "outputs": []
    },
    {
      "cell_type": "markdown",
      "source": [
        "# **Creación de Tabla de Hechos y de Dimensiones**"
      ],
      "metadata": {
        "id": "hxkQcc9tCTqT"
      }
    },
    {
      "cell_type": "code",
      "execution_count": 26,
      "metadata": {
        "id": "hNebdN4zajvA",
        "colab": {
          "base_uri": "https://localhost:8080/"
        },
        "outputId": "b35b112d-b329-427e-b08c-4d7469294b13"
      },
      "outputs": [
        {
          "output_type": "stream",
          "name": "stdout",
          "text": [
            "Tablas ajustadas, cargadas y guardadas con éxito.\n"
          ]
        },
        {
          "output_type": "stream",
          "name": "stderr",
          "text": [
            "<ipython-input-26-2ba3b806fb92>:91: SettingWithCopyWarning: \n",
            "A value is trying to be set on a copy of a slice from a DataFrame\n",
            "\n",
            "See the caveats in the documentation: https://pandas.pydata.org/pandas-docs/stable/user_guide/indexing.html#returning-a-view-versus-a-copy\n",
            "  fact_race_performance.rename(columns={\n"
          ]
        }
      ],
      "source": [
        "# Cargar datos\n",
        "driver_standings = pd.read_csv('driver_standings_cleaned.csv')\n",
        "race_details = pd.read_csv('race_details_cleaned.csv')\n",
        "driver_details = pd.read_csv('driver_details_cleaned.csv')\n",
        "\n",
        "# Crear IDs únicos para pilotos, coches y carreras\n",
        "driver_standings['driver_id'] = driver_standings['driver'].factorize()[0]\n",
        "driver_standings['car_id'] = driver_standings['car'].factorize()[0]\n",
        "\n",
        "# Mapear driver_id en race_details\n",
        "driver_standings_unique_driver = driver_standings[['driver', 'driver_id']].drop_duplicates()\n",
        "race_details['driver_id'] = race_details['driver'].map(driver_standings_unique_driver.set_index('driver')['driver_id'])\n",
        "\n",
        "# Normalizar nombres de coches en race_details\n",
        "car_name_mapping = {\n",
        "    'Era': 'ERA',\n",
        "    'Alta': 'Alta',\n",
        "    'Maserati Offenhauser': 'Maserati',\n",
        "    # Agrega más mapeos aquí según sea necesario\n",
        "}\n",
        "race_details['car_normalized'] = race_details['car'].replace(car_name_mapping)\n",
        "\n",
        "# Generar IDs únicos para coches\n",
        "driver_standings_unique_car = driver_standings[['car', 'car_id']].drop_duplicates()\n",
        "unmatched_cars_normalized = race_details.loc[\n",
        "    race_details['car_normalized'].notna() & ~race_details['car_normalized'].isin(driver_standings['car'])\n",
        "]['car_normalized'].unique()\n",
        "\n",
        "# IDs temporales para coches no encontrados\n",
        "temp_ids = {car: idx + 1000 for idx, car in enumerate(unmatched_cars_normalized)}\n",
        "race_details['car_id'] = race_details['car_normalized'].map(driver_standings_unique_car.set_index('car')['car_id'])\n",
        "race_details['car_id'] = race_details['car_id'].fillna(race_details['car_normalized'].map(temp_ids))\n",
        "\n",
        "# IDs únicos para carreras\n",
        "race_details['race_id'] = race_details['grand_prix'].factorize()[0]\n",
        "\n",
        "# Dimensión: Dim_Drivers\n",
        "dim_drivers = driver_standings[['driver_id', 'driver', 'nationality', 'drivercode']].drop_duplicates(subset=['driver_id'])\n",
        "number_asigned = race_details[['driver_id', 'no']].drop_duplicates(subset=['driver_id']).set_index('driver_id')['no']\n",
        "dim_drivers = dim_drivers.merge(number_asigned, on='driver_id', how='left')\n",
        "dim_drivers.rename(columns={\n",
        "    'driver': 'driver_name',\n",
        "    'nationality': 'nationality',\n",
        "    'drivercode': 'driver_code',\n",
        "    'no': 'number_asigned'\n",
        "}, inplace=True)\n",
        "\n",
        "# Dimensión: Dim_Cars\n",
        "unique_cars_from_facts = race_details[['car_id', 'car_normalized']].rename(columns={'car_normalized': 'car_name'})\n",
        "dim_cars = pd.concat([\n",
        "    driver_standings[['car_id', 'car']].rename(columns={'car': 'car_name'}),\n",
        "    unique_cars_from_facts\n",
        "]).drop_duplicates(subset=['car_id'])\n",
        "\n",
        "# Dimensión: Dim_Races\n",
        "dim_races = race_details[['race_id', 'grand_prix', 'year', 'detail']].drop_duplicates(subset=['race_id'])\n",
        "dim_races.rename(columns={\n",
        "    'grand_prix': 'grand_prix',\n",
        "    'year': 'year',\n",
        "    'detail': 'detail'\n",
        "}, inplace=True)\n",
        "\n",
        "# Dimensión: Dim_Time\n",
        "driver_details['date'] = pd.to_datetime(driver_details['date'])\n",
        "dim_time = driver_details[['date']].drop_duplicates()\n",
        "dim_time['date_id'] = range(1, len(dim_time) + 1)\n",
        "dim_time['year'] = dim_time['date'].dt.year\n",
        "dim_time['month'] = dim_time['date'].dt.month\n",
        "dim_time['day'] = dim_time['date'].dt.day\n",
        "\n",
        "# Reordenar las columnas para que date_id sea la primera\n",
        "dim_time = dim_time[['date_id', 'date', 'year', 'month', 'day']]\n",
        "\n",
        "# Dimensión: Dim_Historical_Stats\n",
        "total_points = driver_standings.groupby('driver_id')['pts'].sum().reset_index(name='total_points')\n",
        "total_races = race_details.groupby('driver_id').size().reset_index(name='total_races')\n",
        "best_position = race_details.groupby('driver_id')['pos'].min().reset_index(name='best_position')\n",
        "total_wins = race_details[race_details['pos'] == 1].groupby('driver_id').size().reset_index(name='total_wins')\n",
        "\n",
        "dim_historical_stats = total_points.merge(total_races, on='driver_id', how='left') \\\n",
        "    .merge(best_position, on='driver_id', how='left') \\\n",
        "    .merge(total_wins, on='driver_id', how='left')\n",
        "dim_historical_stats['total_wins'] = dim_historical_stats['total_wins'].fillna(0).astype(int)\n",
        "dim_historical_stats['historical_id'] = range(1, len(dim_historical_stats) + 1)\n",
        "\n",
        "dim_historical_stats = dim_historical_stats[['historical_id', 'driver_id', 'total_points', 'total_races',\n",
        "                                             'best_position', 'total_wins']]\n",
        "\n",
        "# Tabla de Hechos: Fact_Race_Performance\n",
        "fact_race_performance = race_details[['race_id', 'driver_id', 'car_id', 'year', 'pts', 'pos', 'laps', 'time/retired']]\n",
        "fact_race_performance.rename(columns={\n",
        "    'year': 'year',\n",
        "    'pts': 'points_earned',\n",
        "    'pos': 'position',\n",
        "    'laps': 'laps_completed',\n",
        "    'time/retired': 'time_or_status'\n",
        "}, inplace=True)\n",
        "\n",
        "# Validar relaciones en la tabla de hechos\n",
        "valid_driver_ids = dim_drivers['driver_id'].unique()\n",
        "fact_race_performance = fact_race_performance[fact_race_performance['driver_id'].isin(valid_driver_ids)]\n",
        "\n",
        "valid_car_ids = dim_cars['car_id'].unique()\n",
        "fact_race_performance = fact_race_performance[fact_race_performance['car_id'].isin(valid_car_ids)]\n",
        "\n",
        "# Guardar tablas resultantes\n",
        "dim_drivers.to_csv('dim_drivers.csv', index=False)\n",
        "dim_cars.to_csv('dim_cars.csv', index=False)\n",
        "dim_races.to_csv('dim_races.csv', index=False)\n",
        "dim_time.to_csv('dim_time.csv', index=False)\n",
        "dim_historical_stats.to_csv('dim_historical_stats.csv', index=False)\n",
        "fact_race_performance.to_csv('fact_race_performance.csv', index=False)\n",
        "\n",
        "print(\"Tablas ajustadas, cargadas y guardadas con éxito.\")\n"
      ]
    },
    {
      "cell_type": "markdown",
      "source": [
        "# **Validación de carga**"
      ],
      "metadata": {
        "id": "sbFyAynh-Eab"
      }
    },
    {
      "cell_type": "code",
      "source": [
        "# Cargar la tabla Dim_Time para validación\n",
        "dim_time = pd.read_csv('dim_time.csv')\n",
        "\n",
        "# Mostrar las primeras filas para validar la estructura\n",
        "print(\"Dim_Time:\")\n",
        "print(dim_time.head())\n"
      ],
      "metadata": {
        "colab": {
          "base_uri": "https://localhost:8080/"
        },
        "id": "Xid4Wj23waK6",
        "outputId": "84464e95-f703-49f9-b70d-1fadf9ee5202"
      },
      "execution_count": 27,
      "outputs": [
        {
          "output_type": "stream",
          "name": "stdout",
          "text": [
            "Dim_Time:\n",
            "   date_id        date  year  month  day\n",
            "0        1  1950-05-21  1950      5   21\n",
            "1        2  1950-06-04  1950      6    4\n",
            "2        3  1950-06-18  1950      6   18\n",
            "3        4  1950-09-03  1950      9    3\n",
            "4        5  1950-05-30  1950      5   30\n"
          ]
        }
      ]
    },
    {
      "cell_type": "code",
      "source": [
        "# Cargar la tabla Dim_Cars para validación\n",
        "dim_cars = pd.read_csv('dim_cars.csv')\n",
        "\n",
        "# Mostrar las primeras filas para validar la estructura\n",
        "print(\"Dim_Cars:\")\n",
        "print(dim_cars.head())"
      ],
      "metadata": {
        "colab": {
          "base_uri": "https://localhost:8080/"
        },
        "id": "AjafvoBG-LGL",
        "outputId": "6422a34a-cebf-4934-ac2a-f2449c5261cd"
      },
      "execution_count": 28,
      "outputs": [
        {
          "output_type": "stream",
          "name": "stdout",
          "text": [
            "Dim_Cars:\n",
            "   car_id                  car_name\n",
            "0     0.0                Alfa Romeo\n",
            "1     1.0               Talbot-Lago\n",
            "2     2.0                   Ferrari\n",
            "3     3.0  Kurtis Kraft Offenhauser\n",
            "4     4.0         Deidt Offenhauser\n"
          ]
        }
      ]
    },
    {
      "cell_type": "code",
      "source": [
        "# Cargar la tabla Dim_Drivers para validación\n",
        "dim_drivers = pd.read_csv('dim_drivers.csv')\n",
        "\n",
        "# Mostrar las primeras filas para validar la estructura\n",
        "print(\"Dim_Drivers:\")\n",
        "print(dim_drivers.head())"
      ],
      "metadata": {
        "colab": {
          "base_uri": "https://localhost:8080/"
        },
        "id": "SY2PJM_G-Mhg",
        "outputId": "d4c026c9-2d57-4bab-ae0b-b311374bb4e0"
      },
      "execution_count": 29,
      "outputs": [
        {
          "output_type": "stream",
          "name": "stdout",
          "text": [
            "Dim_Drivers:\n",
            "   driver_id         driver_name nationality driver_code  number_asigned\n",
            "0          0         Nino Farina         ITA         FAR             2.0\n",
            "1          1  Juan Manuel Fangio         ARG         FAN             1.0\n",
            "2          2       Luigi Fagioli         ITA         FAG             3.0\n",
            "3          3        Louis Rosier         FRA         ROS            15.0\n",
            "4          4      Alberto Ascari         ITA         ASC            40.0\n"
          ]
        }
      ]
    },
    {
      "cell_type": "code",
      "source": [
        "# Cargar la tabla Dim_Historical_Stats para validación\n",
        "dim_historical_stats = pd.read_csv('dim_historical_stats.csv')\n",
        "\n",
        "# Mostrar las primeras filas para validar la estructura\n",
        "print(\"Dim_Historical_Stats:\")\n",
        "print(dim_historical_stats.head())"
      ],
      "metadata": {
        "colab": {
          "base_uri": "https://localhost:8080/"
        },
        "id": "rGjfqfBz-Md5",
        "outputId": "40febec1-294b-4c6d-bfcd-ed16595502cf"
      },
      "execution_count": 30,
      "outputs": [
        {
          "output_type": "stream",
          "name": "stdout",
          "text": [
            "Dim_Historical_Stats:\n",
            "   historical_id  driver_id  total_points  total_races  best_position  \\\n",
            "0              1          0         115.3         33.0           -1.0   \n",
            "1              2          1         244.5         51.0           -1.0   \n",
            "2              3          2          28.0          7.0           -1.0   \n",
            "3              4          3          18.0         38.0           -1.0   \n",
            "4              5          4         107.6         32.0           -1.0   \n",
            "\n",
            "   total_wins  \n",
            "0           5  \n",
            "1          24  \n",
            "2           1  \n",
            "3           0  \n",
            "4          13  \n"
          ]
        }
      ]
    },
    {
      "cell_type": "code",
      "source": [
        "# Cargar la tabla Dim_Races para validación\n",
        "dim_races = pd.read_csv('dim_races.csv')\n",
        "\n",
        "# Mostrar las primeras filas para validar la estructura\n",
        "print(\"Dim_Races:\")\n",
        "print(dim_races.head())"
      ],
      "metadata": {
        "colab": {
          "base_uri": "https://localhost:8080/"
        },
        "id": "-x5lUYbO-Mbj",
        "outputId": "8ddcbd1b-dad1-4719-914d-04b648b841b6"
      },
      "execution_count": 21,
      "outputs": [
        {
          "output_type": "stream",
          "name": "stdout",
          "text": [
            "Dim_Races:\n",
            "   race_id        grand_prix  year       detail\n",
            "0        0     Great Britain  1950  Race-Result\n",
            "1        1            Monaco  1950  Race-Result\n",
            "2        2  Indianapolis 500  1950  Race-Result\n",
            "3        3       Switzerland  1950  Race-Result\n",
            "4        4           Belgium  1950  Race-Result\n"
          ]
        }
      ]
    },
    {
      "cell_type": "code",
      "source": [
        "# Cargar la tabla de hechos Fact_race_performance para validación\n",
        "fact_race_performance.csv = pd.read_csv('fact_race_performance.csv')\n",
        "\n",
        "# Mostrar las primeras filas para validar la estructura\n",
        "print(\"Fact_race_performance:\")\n",
        "print(fact_race_performance.head())"
      ],
      "metadata": {
        "colab": {
          "base_uri": "https://localhost:8080/"
        },
        "id": "f-A6kB8G-MZH",
        "outputId": "7f43b840-8c2c-4c2c-9da5-589dde5d0d5d"
      },
      "execution_count": 31,
      "outputs": [
        {
          "output_type": "stream",
          "name": "stdout",
          "text": [
            "Fact_race_performance:\n",
            "   race_id  driver_id  car_id  year  points_earned  position  laps_completed  \\\n",
            "0        0        0.0     0.0  1950            9.0         1              70   \n",
            "1        0        2.0     0.0  1950            6.0         2              70   \n",
            "2        0        8.0     0.0  1950            4.0         3              70   \n",
            "4        0        3.0     1.0  1950            2.0         5              68   \n",
            "7        0       17.0     1.0  1950            0.0         8              65   \n",
            "\n",
            "  time_or_status  \n",
            "0    2:13:23.600  \n",
            "1        +2.600s  \n",
            "2       +52.000s  \n",
            "4        +2 laps  \n",
            "7        +5 laps  \n"
          ]
        },
        {
          "output_type": "stream",
          "name": "stderr",
          "text": [
            "<ipython-input-31-ca32d2550ff7>:2: UserWarning: Pandas doesn't allow columns to be created via a new attribute name - see https://pandas.pydata.org/pandas-docs/stable/indexing.html#attribute-access\n",
            "  fact_race_performance.csv = pd.read_csv('fact_race_performance.csv')\n"
          ]
        }
      ]
    },
    {
      "cell_type": "code",
      "source": [
        "# Verificación 1: Relaciones en la tabla de hechos\n",
        "# Asegurarse de que no haya IDs de pilotos no referenciados\n",
        "invalid_driver_references = fact_race_performance[~fact_race_performance['driver_id'].isin(dim_drivers['driver_id'])]\n",
        "print(f\"Invalid Driver References: {len(invalid_driver_references)}\")\n",
        "\n",
        "# Verificación 2: Consistencia de Claves en Dim_Drivers\n",
        "# Confirma que no haya registros duplicados en la clave primaria\n",
        "total_drivers = len(dim_drivers)\n",
        "distinct_drivers = dim_drivers['driver_id'].nunique()\n",
        "print(f\"Total Drivers: {total_drivers}, Distinct Drivers: {distinct_drivers}\")\n",
        "print(f\"Duplicated Drivers: {total_drivers - distinct_drivers}\")\n",
        "\n",
        "# Verificación 3: Relaciones entre tabla de hechos y Dim_Cars\n",
        "# Verificar que todos los IDs de coches en la tabla de hechos existan en Dim_Cars\n",
        "invalid_car_references = fact_race_performance[~fact_race_performance['car_id'].isin(dim_cars['car_id'])]\n",
        "print(f\"Invalid Car References: {len(invalid_car_references)}\")\n",
        "\n",
        "# Verificación 4: Relaciones entre tabla de hechos y Dim_Races\n",
        "# Verificar que todos los IDs de carreras en la tabla de hechos existan en Dim_Races\n",
        "invalid_race_references = fact_race_performance[~fact_race_performance['race_id'].isin(dim_races['race_id'])]\n",
        "print(f\"Invalid Race References: {len(invalid_race_references)}\")\n",
        "\n",
        "# Verificación 5: Consistencia en Dim_Races\n",
        "# Confirmar que no haya registros duplicados en la clave primaria\n",
        "total_races = len(dim_races)\n",
        "distinct_races = dim_races['race_id'].nunique()\n",
        "print(f\"Total Races: {total_races}, Distinct Races: {distinct_races}\")\n",
        "print(f\"Duplicated Races: {total_races - distinct_races}\")\n",
        "\n",
        "# Verificación 6: Consistencia de Fechas en Dim_Time\n",
        "# Confirmar que no haya registros duplicados en la clave primaria\n",
        "total_dates = len(dim_time)\n",
        "distinct_dates = dim_time['date_id'].nunique()\n",
        "print(f\"Total Dates: {total_dates}, Distinct Dates: {distinct_dates}\")\n",
        "print(f\"Duplicated Dates: {total_dates - distinct_dates}\")\n",
        "\n",
        "# Verificación 7: Relaciones con Dim_Historical_Stats\n",
        "# Confirmar que todos los IDs de pilotos en Dim_Historical_Stats existan en Dim_Drivers\n",
        "invalid_historical_stats_references = dim_historical_stats[~dim_historical_stats['driver_id'].isin(dim_drivers['driver_id'])]\n",
        "print(f\"Invalid Historical Stats References: {len(invalid_historical_stats_references)}\")"
      ],
      "metadata": {
        "colab": {
          "base_uri": "https://localhost:8080/"
        },
        "id": "KF26UlUC-MT_",
        "outputId": "f9a12b8e-9b0c-4cef-98ad-3a908fb21a9e"
      },
      "execution_count": 32,
      "outputs": [
        {
          "output_type": "stream",
          "name": "stdout",
          "text": [
            "Invalid Driver References: 0\n",
            "Total Drivers: 394, Distinct Drivers: 394\n",
            "Duplicated Drivers: 0\n",
            "Invalid Car References: 0\n",
            "Invalid Race References: 0\n",
            "Total Races: 52, Distinct Races: 52\n",
            "Duplicated Races: 0\n",
            "Total Dates: 1079, Distinct Dates: 1079\n",
            "Duplicated Dates: 0\n",
            "Invalid Historical Stats References: 0\n"
          ]
        }
      ]
    }
  ]
}